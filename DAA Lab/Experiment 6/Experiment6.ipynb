{
 "cells": [
  {
   "cell_type": "code",
   "execution_count": null,
   "metadata": {},
   "outputs": [],
   "source": [
    "import matplotlib.pyplot as plt\n",
    "import numpy as np"
   ]
  },
  {
   "cell_type": "code",
   "execution_count": null,
   "metadata": {},
   "outputs": [],
   "source": [
    "graphs = ['Graph 1', 'Graph 2', 'Graph 3']\n",
    "dijkstra_times = [0.00030, 0.00040, 0.00060]\n",
    "bellman_ford_times = [0.00010, 0.00040, 0.00100]"
   ]
  },
  {
   "cell_type": "code",
   "execution_count": null,
   "metadata": {},
   "outputs": [],
   "source": [
    "# Create a bar width\n",
    "bar_width = 0.35\n",
    "index = np.arange(len(graphs))"
   ]
  },
  {
   "cell_type": "code",
   "execution_count": null,
   "metadata": {},
   "outputs": [],
   "source": [
    "# Create a figure and axis\n",
    "fig, ax = plt.subplots()\n",
    "\n",
    "# Plot bars for Dijkstra and Bellman-Ford times\n",
    "bar1 = ax.bar(index, dijkstra_times, bar_width, label='Dijkstra')\n",
    "bar2 = ax.bar(index + bar_width, bellman_ford_times, bar_width, label='Bellman-Ford')\n",
    "\n",
    "# Add labels and title\n",
    "ax.set_xlabel('Graph')\n",
    "ax.set_ylabel('Time (ms)')\n",
    "ax.set_title('Performance Comparison of Dijkstra vs Bellman-Ford')\n",
    "ax.set_xticks(index + bar_width / 2)\n",
    "ax.set_xticklabels(graphs)\n",
    "ax.legend()\n",
    "\n",
    "# Show the plot\n",
    "plt.tight_layout()\n",
    "plt.show()"
   ]
  }
 ],
 "metadata": {
  "language_info": {
   "name": "python"
  }
 },
 "nbformat": 4,
 "nbformat_minor": 2
}
